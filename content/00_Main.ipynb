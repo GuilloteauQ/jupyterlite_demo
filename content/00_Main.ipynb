{
 "cells": [
  {
   "cell_type": "markdown",
   "id": "b15c0557",
   "metadata": {},
   "source": [
    "# Tutorial Control for Computing"
   ]
  },
  {
   "cell_type": "markdown",
   "id": "d74f1154",
   "metadata": {},
   "source": [
    "In this tutorial, we introduce the basic concepts of applying control theory methods to computing systems, or applications."
   ]
  },
  {
   "cell_type": "markdown",
   "id": "187c1410-4256-4621-b812-c4de2b41fedf",
   "metadata": {},
   "source": [
    "## Contents\n",
    "\n",
    "- [Introduction of the System](./01_System.ipynb)\n",
    "- [The \"Bang-Bang\" Approach](./02_BangBang.ipynb)\n",
    "- [Proportional Controller](./03_PController.ipynb)\n",
    "- [Proportional-Integral Controller](./04_PIController.ipynb)\n",
    "- [Identification](./05_Identification.ipynb)\n",
    "- [Exercice: Design of a PI Controller on a Real System](./06_RealSystem.ipynb)"
   ]
  }
 ],
 "metadata": {
  "kernelspec": {
   "display_name": "Python 3 (ipykernel)",
   "language": "python",
   "name": "python3"
  },
  "language_info": {
   "codemirror_mode": {
    "name": "ipython",
    "version": 3
   },
   "file_extension": ".py",
   "mimetype": "text/x-python",
   "name": "python",
   "nbconvert_exporter": "python",
   "pygments_lexer": "ipython3",
   "version": "3.9.12"
  }
 },
 "nbformat": 4,
 "nbformat_minor": 5
}
