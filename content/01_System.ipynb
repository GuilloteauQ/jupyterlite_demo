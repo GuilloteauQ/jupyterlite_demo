{
 "cells": [
  {
   "cell_type": "markdown",
   "id": "e2114ca5-c4bc-44f4-9eed-ef4ab5447994",
   "metadata": {},
   "source": [
    "# The System "
   ]
  },
  {
   "cell_type": "code",
   "execution_count": null,
   "id": "2ee6b0b7-8581-44fd-be6d-b747c209b9f4",
   "metadata": {},
   "outputs": [],
   "source": [
    "from tuto_control_lib.systems import IntroSystem\n",
    "from tuto_control_lib.plot import *\n",
    "\n",
    "import matplotlib.pyplot as plt\n",
    "import numpy as np"
   ]
  },
  {
   "cell_type": "markdown",
   "id": "54a717f8-7076-4947-b92c-f245f91b72ec",
   "metadata": {},
   "source": [
    "To get familiar with the concepts of Control Theory, we will first use a simulated system to allow for quick iteration.\n",
    "We will use a real system in the [last section](./06_RealSystem.ipynb)."
   ]
  },
  {
   "cell_type": "markdown",
   "id": "695e8ac6-da3f-41c5-a5ad-9f560d1b9b7f",
   "metadata": {},
   "source": [
    "The system has the following API:\n",
    "\n",
    "- a system can be created with `IntroSystem()`\n",
    "\n",
    "- we can sense the system by running `system.sense()`\n",
    "\n",
    "- we can apply an input by running `system.apply(INPUT)`\n",
    "\n",
    "Here is an small example:"
   ]
  },
  {
   "cell_type": "code",
   "execution_count": null,
   "id": "0fe7a0c2-4f8c-492f-90d6-ab6ace7a6941",
   "metadata": {},
   "outputs": [],
   "source": [
    "system = IntroSystem()\n",
    "print(f\"Sensor: {system.sense()}\")\n",
    "system.apply(2)\n",
    "print(f\"Sensor: {system.sense()}\")\n",
    "system.apply(1)\n",
    "print(f\"Sensor: {system.sense()}\")"
   ]
  },
  {
   "cell_type": "markdown",
   "id": "afc1f6cf-ff70-434f-a364-a5801b8067b2",
   "metadata": {},
   "source": [
    "Let us perform what is called an open loop experiment.\n",
    "For this, we apply a constant input and obeserve the output.\n",
    "\n",
    "In the following code-block we explain how the following code-blocks of this tutorial will be designed."
   ]
  },
  {
   "cell_type": "code",
   "execution_count": null,
   "id": "7112c698-b6b5-4d99-bbe5-946e692bf4d8",
   "metadata": {},
   "outputs": [],
   "source": [
    "# We define the number of iteration to simulate\n",
    "max_iter = 100\n",
    "# We initialize the system\n",
    "system = IntroSystem()\n",
    "# This list will gather the values of the sensor to plot them after\n",
    "y_values = []\n",
    "# This is the constant value that we will apply to our system.\n",
    "constant_input = 2\n",
    "\n",
    "for _ in range(max_iter):\n",
    "    # For every iteration....\n",
    "    \n",
    "    # ... we read the sensor,\n",
    "    y = system.sense()\n",
    "    \n",
    "    # and save its value.\n",
    "    y_values.append(y)\n",
    "    \n",
    "    # We then apply the constant input\n",
    "    system.apply(constant_input)\n",
    "    \n",
    "# We finally plot the simulation    \n",
    "plot_y(y_values)"
   ]
  },
  {
   "cell_type": "markdown",
   "id": "00025b4b-0452-4294-a87c-7016f63cf472",
   "metadata": {},
   "source": [
    "Let us now try to apply stairs input.\n",
    "This just means that we will have different values of constant input."
   ]
  },
  {
   "cell_type": "markdown",
   "id": "9e4b819a-071f-4e8f-a761-e212833b2a7f",
   "metadata": {},
   "source": [
    "Let us say that we want to increase the input by 2 every 25 iterations."
   ]
  },
  {
   "cell_type": "code",
   "execution_count": null,
   "id": "1ab13ec7-891f-4483-81a0-adbf2434ba51",
   "metadata": {},
   "outputs": [],
   "source": [
    "max_iter = 100\n",
    "system = IntroSystem()\n",
    "\n",
    "y_values = []\n",
    "# This list will contain the value for the input to plot them\n",
    "u_values = []\n",
    "u = 0\n",
    "\n",
    "for i in range(max_iter):\n",
    "    y = system.sense()\n",
    "    y_values.append(y)\n",
    "    \n",
    "    u = 2 * (i // 25)\n",
    "    u_values.append(u)\n",
    "    system.apply(u)\n",
    "    \n",
    "plot_u_y(u_values, y_values)"
   ]
  },
  {
   "cell_type": "markdown",
   "id": "51979864-268e-432a-891c-e63083b59672",
   "metadata": {},
   "source": [
    "The goal of control theory is to regulate systems around desired behaviors.\n",
    "\n",
    "In our case, we would want the system's sensor to be around a specific value."
   ]
  },
  {
   "cell_type": "markdown",
   "id": "5ee594a4-012d-4f86-8397-29ed904508f8",
   "metadata": {},
   "source": [
    "[Back to menu](./00_Main.ipynb) or [Next chapter](./02_BangBang.ipynb)"
   ]
  }
 ],
 "metadata": {
  "kernelspec": {
   "display_name": "Python 3 (ipykernel)",
   "language": "python",
   "name": "python3"
  },
  "language_info": {
   "codemirror_mode": {
    "name": "ipython",
    "version": 3
   },
   "file_extension": ".py",
   "mimetype": "text/x-python",
   "name": "python",
   "nbconvert_exporter": "python",
   "pygments_lexer": "ipython3",
   "version": "3.9.12"
  }
 },
 "nbformat": 4,
 "nbformat_minor": 5
}
