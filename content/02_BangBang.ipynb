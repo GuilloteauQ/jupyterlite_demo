{
 "cells": [
  {
   "cell_type": "markdown",
   "id": "98f24f94-e1df-4dff-8266-57b3de5f3431",
   "metadata": {},
   "source": [
    "# The Bang-Bang Approach"
   ]
  },
  {
   "cell_type": "code",
   "execution_count": null,
   "id": "8ffb58c1-62d2-4c90-9b02-db84c416df84",
   "metadata": {},
   "outputs": [],
   "source": [
    "%pip install tuto-control-lib==1.0\n",
    "from tuto_control_lib.systems import IntroSystem\n",
    "from tuto_control_lib.plot import plot_u_y\n",
    "\n",
    "import matplotlib.pyplot as plt\n",
    "import numpy as np\n",
    "from statistics import mean"
   ]
  },
  {
   "cell_type": "markdown",
   "id": "fb8193e6-bec3-4cc2-848a-30535df4d159",
   "metadata": {
    "tags": []
   },
   "source": [
    "One way to do regulate the output of a system would be to have two bounds for the system sensor:\n",
    "\n",
    "- one upper bound\n",
    "- one lower bound\n",
    "\n",
    "When the system output is greater than the upper bound, we decrease the input.\n",
    "And when the system output is lower than the lower bound, we increase the input.\n",
    "Else, we keep the previous input."
   ]
  },
  {
   "cell_type": "markdown",
   "id": "60d2e25c-4264-45f7-89b0-63fbc9e13ff8",
   "metadata": {
    "tags": []
   },
   "source": [
    "Say that we want to regulate our system around the value 1.\n",
    "\n",
    "We now have to chose the values of the bounds.\n",
    "\n",
    "The issue is that there is no protocol to find the values of the bounds and the incremental part.\n",
    "\n",
    "So, we have to proceed by try-and-error.\n",
    "\n",
    "\n",
    "We can say take as lower bound 5 and as upper bound 7."
   ]
  },
  {
   "cell_type": "code",
   "execution_count": null,
   "id": "62db6d61-c852-43f7-8dff-8b4af2fa93b9",
   "metadata": {
    "tags": []
   },
   "outputs": [],
   "source": [
    "system, u, y_values, u_values, max_iter = IntroSystem(), 0, [], [], 100\n",
    "\n",
    "reference_value = 1\n",
    "upper_bound = 0.5\n",
    "lower_bound = 1.5\n",
    "increment = 0.5\n",
    "\n",
    "for i in range(max_iter):\n",
    "    y = system.sense()\n",
    "    y_values.append(y)\n",
    "    \n",
    "    if y < lower_bound:\n",
    "        u += increment\n",
    "    elif y > upper_bound:\n",
    "        u -= increment\n",
    "    else:\n",
    "        pass\n",
    "    system.apply(u)\n",
    "    u_values.append(u)\n",
    "    \n",
    "plot_u_y(u_values, y_values, reference_value)"
   ]
  },
  {
   "cell_type": "markdown",
   "id": "6267274e-7d36-42c2-9a4d-f7efcaaf0634",
   "metadata": {
    "tags": []
   },
   "source": [
    "As we can see, the system is somewhat under control, but oscillate a lot."
   ]
  },
  {
   "cell_type": "code",
   "execution_count": null,
   "id": "ecdc7121-d253-477d-92dc-4485abd97d29",
   "metadata": {},
   "outputs": [],
   "source": [
    "mean_error = mean(map(lambda x: abs(reference_value - x), y_values))\n",
    "max_overshoot = (max(y_values) - reference_value) /  reference_value\n",
    "\n",
    "print(f\"Mean Error: {mean_error}\")\n",
    "print(f\"Max. Overshoot: {max_overshoot}\")"
   ]
  },
  {
   "cell_type": "markdown",
   "id": "2b58c216-0ef8-4d17-8b35-514974b47570",
   "metadata": {},
   "source": [
    "<div class=\"alert alert-info\">\n",
    "Try changing the values of the bounds and the increment to see the behaviour of the system.\n",
    "</div>"
   ]
  },
  {
   "cell_type": "markdown",
   "id": "73e94170-8855-4a03-a77b-e5261cc27391",
   "metadata": {},
   "source": [
    "[Back to menu](./00_Main.ipynb) or [Next chapter](./03_PController.ipynb)"
   ]
  }
 ],
 "metadata": {
  "kernelspec": {
   "display_name": "Python 3 (ipykernel)",
   "language": "python",
   "name": "python3"
  },
  "language_info": {
   "codemirror_mode": {
    "name": "ipython",
    "version": 3
   },
   "file_extension": ".py",
   "mimetype": "text/x-python",
   "name": "python",
   "nbconvert_exporter": "python",
   "pygments_lexer": "ipython3",
   "version": "3.9.12"
  }
 },
 "nbformat": 4,
 "nbformat_minor": 5
}
