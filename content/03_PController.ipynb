{
 "cells": [
  {
   "cell_type": "markdown",
   "id": "86607676-56c2-4bec-b675-309f8f1a5e85",
   "metadata": {},
   "source": [
    "# Proportional Controller"
   ]
  },
  {
   "cell_type": "code",
   "execution_count": null,
   "id": "6830d828-6569-409d-aeb6-6fbfac190b3f",
   "metadata": {},
   "outputs": [],
   "source": [
    "from tuto_control_lib.systems import IntroSystem\n",
    "from tuto_control_lib.plot import *\n",
    "\n",
    "import matplotlib.pyplot as plt\n",
    "import numpy as np\n",
    "from math import exp"
   ]
  },
  {
   "cell_type": "markdown",
   "id": "028756f1-641f-4c33-9879-cbb53ee0f256",
   "metadata": {},
   "source": [
    "We have seen that a Bang-Bang solution manages to roughly get the system in the desired state.\n",
    "\n",
    "However, the lack of protocol and guarentees of this solution limits its adoption on production systems.\n",
    "\n",
    "In this section, we introduce the most basic controller from Control Theory: the *Proportional Controller*.\n",
    "\n",
    "The idea of the proportional controller is to have a response proportional to the control error.\n",
    "\n",
    "The control error is the distance between the desired behaviour and the current state of the system.\n",
    "\n",
    "The equation of a P Controller is the following:\n",
    "\n",
    "$$\n",
    "u(k) = K_p \\times e(k) = K_p \\times \\left(y_{ref} - y(k)\\right)\n",
    "$$\n",
    "\n",
    "where:\n",
    "\n",
    "- $K_p$ is the propotional gain of the controller\n",
    "- $y_{ref}$ is the reference value for our system (i.e. the desired value of the system output)\n",
    "- $y(k)$ is the system output at iteration $k$\n",
    "- $e(k)$ is the control error at iteration $k$\n",
    "- $u(k)$ is the input at iteration $k$"
   ]
  },
  {
   "cell_type": "code",
   "execution_count": null,
   "id": "3db2d938-fe75-40e0-b66a-a8b6b0ce4eaa",
   "metadata": {},
   "outputs": [],
   "source": [
    "system, u_values, y_values, u, max_iter = IntroSystem(), [], [], 0, 100\n",
    "\n",
    "reference_value = 1\n",
    "kp = 3.3\n",
    "\n",
    "for i in range(max_iter):\n",
    "    y = system.sense()\n",
    "    y_values.append(y)\n",
    "    \n",
    "    error = reference_value - y\n",
    "    u = kp * error\n",
    "    \n",
    "    system.apply(u)\n",
    "    u_values.append(u)\n",
    "\n",
    "plot_u_y(u_values, y_values, reference_value)"
   ]
  },
  {
   "cell_type": "markdown",
   "id": "63203ee3-be90-4e9a-92d4-57a08d042631",
   "metadata": {},
   "source": [
    "As we can see, the system converges, but to a values different than the reference value.\n",
    "The controller introduces oscillations before converging."
   ]
  },
  {
   "cell_type": "code",
   "execution_count": null,
   "id": "7a031480-3308-4389-82c2-3b104d9d1f6a",
   "metadata": {},
   "outputs": [],
   "source": [
    "print(f\"Steady state value: {y_values[-1]}\\nReference value: {reference_value}\")"
   ]
  },
  {
   "cell_type": "markdown",
   "id": "f664e07a-5ea6-4d0f-b826-beb0caeb6c90",
   "metadata": {},
   "source": [
    "<div class=\"alert alert-info\">\n",
    "Try changing the values of the proportional gain $K_p$ and the reference value.\n",
    "</div>"
   ]
  },
  {
   "cell_type": "markdown",
   "id": "5e4ee85a-2551-4b7d-a30f-528befbfc380",
   "metadata": {},
   "source": [
    "# Design of a Proportional Controller"
   ]
  },
  {
   "cell_type": "markdown",
   "id": "49936477-c739-476b-a351-c59ec23f9d68",
   "metadata": {},
   "source": [
    "To design a Proportional Controller with guarentees, we must have a model of our system.\n",
    "\n",
    "A model, in the sense of Control Theory, is a relation between the inputs and the outputs.\n",
    "\n",
    "The general form of a model is the following:\n",
    "\n",
    "$$\n",
    "y(k + 1) = \\sum_{i = 0}^k a_i y(k - i) + \\sum_{i = 0}^k b_i u(k - i)\n",
    "$$\n",
    "\n",
    "where:\n",
    "\n",
    "- $y(k + 1)$ is the next value of the output\n",
    "- $y(k-i)$ and $u(k-i)$ are previous values of the output and the input\n",
    "- $a_i$ and $b_i$ are the coefficients of the model ($\\forall i, (a_i, b_i) \\in (\\mathbb{R}, \\mathbb{R})$)\n",
    "\n",
    "Usually, and to simplify this introduction, we consider *first order models*.\n",
    "\n",
    "This means that the model only considers the last values of $y$ and $u$ to get the next value of $y$.\n",
    "\n",
    "$$\n",
    "y(k + 1) = a y(k) + b u(k)\n",
    "$$\n",
    "\n",
    "In this section, we will suppose that we have a first order model which we know the coefficients.\n",
    "In a [future section](./05_Identification.ipynb), we will look at how to find these coefficients."
   ]
  },
  {
   "cell_type": "code",
   "execution_count": null,
   "id": "378caaac-80da-423d-be96-fdc0812e7380",
   "metadata": {},
   "outputs": [],
   "source": [
    "# Our system\n",
    "system = IntroSystem()\n",
    "# The coefficients\n",
    "a = 0.8\n",
    "b = 0.5"
   ]
  },
  {
   "cell_type": "markdown",
   "id": "7fc2aba3-50a3-4a7d-bdcf-baa02a3d5a45",
   "metadata": {},
   "source": [
    "## Stability"
   ]
  },
  {
   "cell_type": "markdown",
   "id": "869237a3-bcc0-43f0-905a-0ef25ed61955",
   "metadata": {},
   "source": [
    "The pole of the closed-loop transfer function is: $a - b K_p$.\n",
    "\n",
    "For the closed-loop system to be stable, this pole needs to be in the unit circle: $|a - b K_p| < 1$.\n",
    "\n",
    "Thus:\n",
    "\n",
    "$$\n",
    "\\frac{a - 1}{b} < K_p < \\frac{a + 1}{b}\n",
    "$$\n",
    "\n",
    "In our case:"
   ]
  },
  {
   "cell_type": "code",
   "execution_count": null,
   "id": "ce848920-a4a6-416a-9245-94a1ce6c4bdb",
   "metadata": {},
   "outputs": [],
   "source": [
    "stability_lower_bound = (a - 1) / b\n",
    "stability_upper_bound = (a + 1) / b\n",
    "print(f\"{stability_lower_bound} < K_p < {stability_upper_bound}\")"
   ]
  },
  {
   "cell_type": "markdown",
   "id": "17658df0-4284-4b46-99fb-ad401f75c2ca",
   "metadata": {},
   "source": [
    "## Precision"
   ]
  },
  {
   "cell_type": "markdown",
   "id": "35f5b723-9eb7-4314-8fe1-7989b612e1fe",
   "metadata": {},
   "source": [
    "Proportional Controllers are inheritly imprecise.\n",
    "But we can tune their precision ($e_{ss}$) based on the reference value ($r_{ss}$).\n",
    "\n",
    "$$\n",
    "\\begin{aligned}\n",
    "e_{ss} &= r_{ss} ( 1 - F_R(1)) \\\\\n",
    "       &= r_{ss} \\left(1 - \\frac{b K_p}{1 - (a - b K_p)}\\right) < e_{ss}^*\n",
    "\\end{aligned}\n",
    "$$\n",
    "\n",
    "Say we want the steady state error to be less that $e_{ss}^*$.\n",
    "\n",
    "Then,\n",
    "\n",
    "$$\n",
    "K_p > \\frac{\\left(1 - \\frac{e_{ss}^*}{r_{ss}}\\right)\\left(1 - a\\right)}{b\\frac{e_{ss}^*}{r_{ss}}}\n",
    "$$\n",
    "\n",
    "In our case:"
   ]
  },
  {
   "cell_type": "code",
   "execution_count": null,
   "id": "373b93c9-b92a-4f32-bb26-3640a9c05d5f",
   "metadata": {},
   "outputs": [],
   "source": [
    "r_ss = 1\n",
    "e_star = 0.15\n",
    "\n",
    "precision_lower_bound = (1 - e_star/r_ss) * (1 - a)/(b * (e_star/r_ss))\n",
    "\n",
    "print(f\"K_p > {precision_lower_bound}\")"
   ]
  },
  {
   "cell_type": "markdown",
   "id": "657451c9-80c4-4a85-9277-965c76969469",
   "metadata": {},
   "source": [
    "## Settling Time"
   ]
  },
  {
   "cell_type": "markdown",
   "id": "320e2695-9a0b-4a8d-909b-4385dbebf6af",
   "metadata": {},
   "source": [
    "The settling time, or the time to reach the steady state value is defined as follows:\n",
    "\n",
    "$$\n",
    "k_s \\simeq \\frac{-4}{\\log | a - b K_p| }\n",
    "$$\n",
    "\n",
    "Let $k_s^*$ be the desired settling time.\n",
    "\n",
    "Then:\n",
    "\n",
    "$$\n",
    "\\frac{a - \\exp\\left(\\frac{-4}{k_s^*}\\right)}{b} < K_p < \\frac{a + \\exp\\left(\\frac{-4}{k_s^*}\\right)}{b}\n",
    "$$\n",
    "\n",
    "In our case:"
   ]
  },
  {
   "cell_type": "code",
   "execution_count": null,
   "id": "e1737984-27a8-4a7c-8556-ff99ae1bc519",
   "metadata": {},
   "outputs": [],
   "source": [
    "ks_star = 10\n",
    "settling_time_lower_bound = (a - exp(-4/ks_star)) / b\n",
    "settling_time_upper_bound = (a + exp(-4/ks_star)) / b\n",
    "\n",
    "print(f\"{settling_time_lower_bound} < K_p < {settling_time_upper_bound}\")"
   ]
  },
  {
   "cell_type": "markdown",
   "id": "90158219-f1b9-4ec0-9667-e335d1a02854",
   "metadata": {},
   "source": [
    "## Maximum Overshoot"
   ]
  },
  {
   "cell_type": "markdown",
   "id": "a04de440-6087-4f45-a302-02c0f3bfdd20",
   "metadata": {},
   "source": [
    "The maximum overshoot is the maximum error above the reference value.\n",
    "It is defined as:\n",
    "\n",
    "$$\n",
    "M_p = | a - b K_p|\n",
    "$$\n",
    "\n",
    "If $M_p^*$ is the desired maximum overshoot, then:\n",
    "\n",
    "$$\n",
    "\\frac{a - M_p^*}{b} < K_p < \\frac{a + M_p^*}{b}\n",
    "$$\n",
    "\n",
    "But we really are only interested in the upper bound.\n",
    "\n",
    "In our case:"
   ]
  },
  {
   "cell_type": "code",
   "execution_count": null,
   "id": "cd8c0735-9f8d-4cf7-9f1c-536741d98e37",
   "metadata": {},
   "outputs": [],
   "source": [
    "mp_star = 0.1\n",
    "max_overshoot_upper_bound = (a + mp_star) / b\n",
    "print(f\"K_p < {max_overshoot_upper_bound}\")"
   ]
  },
  {
   "cell_type": "code",
   "execution_count": null,
   "id": "cf1f604a-0dd3-4ba2-9fd3-b22613bc0e86",
   "metadata": {},
   "outputs": [],
   "source": [
    "max_y = 15\n",
    "min_y = -5\n",
    "fig, ax = plt.subplots()\n",
    "ax.broken_barh([(stability_lower_bound, stability_upper_bound - stability_lower_bound)], (2.5, 5), facecolors='tab:blue')\n",
    "ax.broken_barh([(precision_lower_bound, max_y)], (7.5, 5), facecolors='tab:red')\n",
    "ax.broken_barh([(settling_time_lower_bound, settling_time_upper_bound - settling_time_lower_bound)], (12.5, 5), facecolors='tab:green')\n",
    "ax.broken_barh([(min_y, max_overshoot_upper_bound - min_y)], (17.5, 5), facecolors='tab:orange')\n",
    "\n",
    "ax.set_ylim(0, 25)\n",
    "ax.set_xlim(min_y, max_y)\n",
    "ax.set_xlabel('Kp')\n",
    "ax.set_yticks([5, 10, 15, 20], labels=['Stability', 'Precision', 'Settling Time', 'Max. Overshoot'])\n",
    "ax.grid(True)\n",
    "plt.show()"
   ]
  },
  {
   "cell_type": "markdown",
   "id": "a837089e-3e92-44d9-b348-25fb882dc553",
   "metadata": {},
   "source": [
    "As we can see, there is no value of $K_p$ that satisfies all the properties.\n",
    "\n",
    "<div class=\"alert alert-danger\" role=\"alert\">\n",
    "    The key point is that implementing a Proportional controller requires some <b>trade-off</b>!\n",
    "</div>\n",
    "\n",
    "In the example above, the value $K_p = 2.5$ seems to statisfy most of the properties."
   ]
  },
  {
   "cell_type": "code",
   "execution_count": null,
   "id": "9a161f2f-57a4-49f2-b7db-fcca7eddcb99",
   "metadata": {},
   "outputs": [],
   "source": [
    "reference_value = 1\n",
    "kp = 2.5\n",
    "y_values, u_values, u, system, max_iter = [], [], 0, IntroSystem(), 20\n",
    "\n",
    "for i in range(max_iter):\n",
    "    y = system.sense()\n",
    "    y_values.append(y)\n",
    "    \n",
    "    error = reference_value - y\n",
    "    u = kp * error\n",
    "    \n",
    "    system.apply(u)\n",
    "    u_values.append(u)\n",
    "\n",
    "plot_u_y(u_values, y_values, reference_value)"
   ]
  },
  {
   "cell_type": "markdown",
   "id": "bdecddd8-813c-4321-9366-0e9bb9c93f6e",
   "metadata": {},
   "source": [
    "We can observe the actual behaviour of the closed loop system and compare them to the desired behavior."
   ]
  },
  {
   "cell_type": "code",
   "execution_count": null,
   "id": "137ccf61-242f-45ed-be2c-f300d21b5f92",
   "metadata": {},
   "outputs": [],
   "source": [
    "e_ss = reference_value - y_values[-1]\n",
    "max_overshoot = (max(y_values) - y_values[-1]) / y_values[-1]\n",
    "settling_time = len([x for x in y_values if abs(x - y_values[-1]) > 0.05])\n",
    "\n",
    "print(f\"Precision: {e_ss} -> desired: < {e_star}\")\n",
    "print(f\"Settling Time: {settling_time} -> desired: < {ks_star}\")\n",
    "print(f\"Max. Overshoot: {max_overshoot} -> desired: < {mp_star}\")"
   ]
  },
  {
   "cell_type": "markdown",
   "id": "dd67e21e-0d8c-45c4-ab53-d67ce40771e6",
   "metadata": {},
   "source": [
    "As expected, the closed loop system overshoots too much, but the other properties are respected."
   ]
  },
  {
   "cell_type": "markdown",
   "id": "01c36250-4482-47d9-a1ab-6451f7470ca7",
   "metadata": {},
   "source": [
    "<div class=\"alert alert-info\" role=\"alert\">\n",
    "  Try to change the requirements on the closed-loop properties to find different values of $K_p$ and plot the system.\n",
    "</div>"
   ]
  },
  {
   "cell_type": "markdown",
   "id": "09a14ea2-b496-4d8a-b5d7-155a5b4d60c9",
   "metadata": {},
   "source": [
    "[Back to menu](./00_Main.ipynb) or [Next chapter](./04_PIController.ipynb)"
   ]
  }
 ],
 "metadata": {
  "kernelspec": {
   "display_name": "Python 3 (ipykernel)",
   "language": "python",
   "name": "python3"
  },
  "language_info": {
   "codemirror_mode": {
    "name": "ipython",
    "version": 3
   },
   "file_extension": ".py",
   "mimetype": "text/x-python",
   "name": "python",
   "nbconvert_exporter": "python",
   "pygments_lexer": "ipython3",
   "version": "3.9.12"
  }
 },
 "nbformat": 4,
 "nbformat_minor": 5
}
