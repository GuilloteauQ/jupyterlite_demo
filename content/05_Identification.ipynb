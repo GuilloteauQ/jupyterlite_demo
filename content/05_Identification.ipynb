{
 "cells": [
  {
   "cell_type": "markdown",
   "id": "34059152-8e0d-4d75-a1ec-edfab3c25c05",
   "metadata": {},
   "source": [
    "# Identification"
   ]
  },
  {
   "cell_type": "code",
   "execution_count": null,
   "id": "1655fd96-9ee8-4258-a9fa-34f2b6de8e32",
   "metadata": {},
   "outputs": [],
   "source": [
    "from tuto_control_lib.systems import UnknownSystem\n",
    "from tuto_control_lib.plot import *\n",
    "\n",
    "import matplotlib.pyplot as plt\n",
    "import numpy as np\n",
    "from math import exp, log, pi, cos\n",
    "from statistics import mean"
   ]
  },
  {
   "cell_type": "markdown",
   "id": "6b3d3141-1e2e-42c0-b822-27c7a0b84471",
   "metadata": {},
   "source": [
    "For moment, we supposed the model of the system known (i.e. the coeficients $a$ and $b$).\n",
    "But in practice, we do not know them.\n",
    "\n",
    "In this Section, we will perform what is called the *Identification* to get the coefficient of the system model.\n",
    "\n",
    "The idea of the identification phase is simple: \"Get the relation between the input and output\".\n",
    "\n",
    "To do this, the most basic way is to perform a serie of step inputs and observe the output.\n",
    "\n",
    "In this Section, we will use the `UnknownSystem` and try to find its coefficients."
   ]
  },
  {
   "cell_type": "code",
   "execution_count": null,
   "id": "7e92fbb0-697a-452f-9829-ab0f67a14a89",
   "metadata": {},
   "outputs": [],
   "source": [
    "system = UnknownSystem()\n",
    "y_values_ident, u_values_ident, u, system, max_iter = [], [], 0, UnknownSystem(), 200\n",
    "for i in range(max_iter):\n",
    "    y = system.sense()\n",
    "    y_values_ident.append(y)\n",
    "    \n",
    "    u = (i + 20) // 20\n",
    "    \n",
    "    system.apply(u)\n",
    "    u_values_ident.append(u)\n",
    "\n",
    "plot_u_y(u_values_ident, y_values_ident)"
   ]
  },
  {
   "cell_type": "markdown",
   "id": "161a6257-f786-4437-b264-678feadd1863",
   "metadata": {},
   "source": [
    "We are looking for an expression for a first order system of the following form:\n",
    "\n",
    "$$\n",
    "y(k+1) = a y(k) + b u(k)\n",
    "$$\n",
    "\n",
    "In steady state, the input is constant: $u_{ss}$.\n",
    "\n",
    "Thus:\n",
    "\n",
    "$$\n",
    "y_{ss} = a y_{ss} + b u_{ss} \\implies \\frac{y_{ss}}{u_{ss}} = \\frac{b}{1 - a}\n",
    "$$\n",
    "\n",
    "In our case:"
   ]
  },
  {
   "cell_type": "code",
   "execution_count": null,
   "id": "7224da8b-7802-40d9-bfec-680bb5225a8d",
   "metadata": {},
   "outputs": [],
   "source": [
    "previous_u = 1\n",
    "gain_ss = None\n",
    "for (u, y) in zip(u_values_ident, y_values_ident):\n",
    "    if u != previous_u:\n",
    "        print(f\"u: {previous_u} -> {gain_ss}\")\n",
    "        previous_u = u\n",
    "    else:\n",
    "        gain_ss = y / u\n",
    "print(f\"u: {previous_u} -> {gain_ss}\")"
   ]
  },
  {
   "cell_type": "markdown",
   "id": "b39169cb-e6c8-4f17-ac6b-003b6be751dd",
   "metadata": {},
   "source": [
    "So the static gain is around `0.85`."
   ]
  },
  {
   "cell_type": "markdown",
   "id": "3e9f8daf-b9c4-476b-b6f1-c5ea97b74574",
   "metadata": {},
   "source": [
    "We will perform a Least Mean Square to get an estimation of the model:"
   ]
  },
  {
   "cell_type": "code",
   "execution_count": null,
   "id": "d7c447ff-390a-4950-80c7-9c53769f651f",
   "metadata": {},
   "outputs": [],
   "source": [
    "u_values_identification = u_values_ident\n",
    "y_values_identification = y_values_ident\n",
    "\n",
    "s1 = sum(y * y for y in y_values_identification)\n",
    "s2 = sum(u * y for (u, y) in zip(u_values_identification, y_values_identification))\n",
    "s3 = sum(u * u for u in u_values_identification)\n",
    "s4 = sum(y * z for (y, z) in zip(y_values_identification[:-2], y_values_identification[1:]))\n",
    "s5 = sum(u * z for (u, z) in zip(u_values_identification[:-2], y_values_identification[1:]))\n",
    "\n",
    "a_est = (s3 * s4 - s2 * s5) / (s1 * s3 - s2 * s2)\n",
    "b_est = (s1 * s5 - s2 * s4) / (s1 * s3 - s2 * s2)\n",
    "\n",
    "print(f\"a: {a_est}, b: {b_est} -> gain: {b_est / (1 - a_est)}\")"
   ]
  },
  {
   "cell_type": "code",
   "execution_count": null,
   "id": "2a1dda22-375b-42aa-bd49-6d0400d7390e",
   "metadata": {},
   "outputs": [],
   "source": [
    "max_iter = 200\n",
    "system = UnknownSystem()\n",
    "y_values, u_values, u, system, integral = [], [], 0, UnknownSystem(), 0\n",
    "model = []\n",
    "y_model = 0\n",
    "\n",
    "for i in range(max_iter):\n",
    "    y = system.sense()\n",
    "    y_values.append(y)\n",
    "    \n",
    "    u = (i + 20) // 20\n",
    "    \n",
    "    system.apply(u)\n",
    "    u_values.append(u)\n",
    "    \n",
    "    y_model = a_est * y_model + b_est * u\n",
    "    model.append(y_model)\n",
    "\n",
    "plot_model_compa(y_values, model)"
   ]
  },
  {
   "cell_type": "markdown",
   "id": "5fd48bfc-8960-46e3-b04e-fbb31ecaac6c",
   "metadata": {},
   "source": [
    "# Designing a PI Controller"
   ]
  },
  {
   "cell_type": "code",
   "execution_count": null,
   "id": "21f1a25d-7366-446c-83f8-946fa4257f87",
   "metadata": {},
   "outputs": [],
   "source": [
    "ks = 10\n",
    "mp = 0.05\n",
    "\n",
    "r = exp(-4/ks)\n",
    "theta = pi * log(r) / log(mp)\n",
    "\n",
    "kp = (a_est - r * r) / b_est\n",
    "ki = (1 - 2 * r * cos(theta) + r * r) / b_est\n",
    "\n",
    "print(f\"Kp = {kp}\\nKi = {ki}\")"
   ]
  },
  {
   "cell_type": "code",
   "execution_count": null,
   "id": "160523c3-f950-4722-8672-a38ac6f17e97",
   "metadata": {},
   "outputs": [],
   "source": [
    "reference_value = 1\n",
    "y_values, u_values, u, system, integral_error, max_iter = [], [], 0, UnknownSystem(), 0, 50\n",
    "\n",
    "for i in range(max_iter):\n",
    "    y = system.sense()\n",
    "    y_values.append(y)\n",
    "    \n",
    "    error = reference_value - y\n",
    "    integral_error += error\n",
    "    u = kp * error + ki * integral_error\n",
    "    \n",
    "    system.apply(u)\n",
    "    u_values.append(u)\n",
    "\n",
    "plot_u_y(u_values, y_values, reference_value)"
   ]
  },
  {
   "cell_type": "code",
   "execution_count": null,
   "id": "2759322c-239d-4376-a70a-e9fc6346f0e8",
   "metadata": {},
   "outputs": [],
   "source": [
    "e_ss = reference_value - y_values[-1]\n",
    "max_overshoot = (max(y_values) - y_values[-1]) / y_values[-1]\n",
    "settling_time = len([x for x in y_values if abs(x - y_values[-1]) > 0.05])\n",
    "\n",
    "print(f\"Precision: {e_ss}\")\n",
    "print(f\"Settling Time: {settling_time} -> desired: < {ks}\")\n",
    "print(f\"Max. Overshoot: {max_overshoot} -> desired: < {mp}\")"
   ]
  },
  {
   "cell_type": "markdown",
   "id": "d916d270-f6c7-4f0c-9f19-869a9c1aac84",
   "metadata": {},
   "source": [
    "[Back to menu](./00_Main.ipynb) or [Next chapter](./06_RealSystem.ipynb)"
   ]
  }
 ],
 "metadata": {
  "kernelspec": {
   "display_name": "Python 3 (ipykernel)",
   "language": "python",
   "name": "python3"
  },
  "language_info": {
   "codemirror_mode": {
    "name": "ipython",
    "version": 3
   },
   "file_extension": ".py",
   "mimetype": "text/x-python",
   "name": "python",
   "nbconvert_exporter": "python",
   "pygments_lexer": "ipython3",
   "version": "3.9.12"
  }
 },
 "nbformat": 4,
 "nbformat_minor": 5
}
