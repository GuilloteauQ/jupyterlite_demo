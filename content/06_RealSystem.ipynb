{
 "cells": [
  {
   "cell_type": "markdown",
   "id": "8c5592b6-7270-437d-9f89-96dc4a60528d",
   "metadata": {},
   "source": [
    "# 'Real' System"
   ]
  },
  {
   "cell_type": "markdown",
   "id": "e38ada7d-aae2-4ff0-bd34-20d4c1bed366",
   "metadata": {},
   "source": [
    "We provide a semi-real system.\n",
    "\n",
    "The system is as follow:\n",
    "\n",
    "We want to compute an estimation of $\\pi$.\n",
    "One way to do this is to use Monte-Carlo simulations.\n",
    "\n",
    "The idea of Monte-Carlo simulations is to execute **a lot of small and independant simulations** and compute the final result based on the results of the simulations.\n",
    "\n",
    "In our case, each simulation we draw a random number $x$ in $[-1, 1]$, and then compute (in a very inefficient way) $\\sqrt{1 - x^2}$.\n",
    "\n",
    "The final result is the sum of each simulation, which is an approximation of $\\int_{-1}^1 \\sqrt{1-x^2}dx = \\frac{\\pi}{2}$\n",
    "\n",
    "Our sensor is the `loadavg` of the machine. The `loadavg` is a metric representing the CPU utilization.\n",
    "\n",
    "Our actuator is the number of threads excuting simulations in parallel (between 0 and 8).\n",
    "\n",
    "> **Our control objective is to control the `loadavg` metric around a given value by adapting the number of threads executing simulations.**\n",
    "\n",
    "You can run the system with the following `docker` command:\n",
    "\n",
    "```sh\n",
    "docker run --privileged -it -v $(pwd):/data registry.gitlab.inria.fr/control-for-computing/tutorial/system:v0.0 tuto-ctrl main.lua 1000000\n",
    "```\n",
    "\n",
    "The `main.lua` file is the file containing the controller code, and the last parameter is the total number of iterations to do."
   ]
  },
  {
   "cell_type": "markdown",
   "id": "8a1ea320-905c-4784-94ca-71c622046559",
   "metadata": {},
   "source": [
    "<div class=\"alert alert-info\" role=\"alert\">\n",
    "   Your tasks:\n",
    "   <ol>\n",
    "      <li>Play with the system: Try different constant inputs and see the output</li>\n",
    "      <li>Assuming the underlying model is a first order model: Perform the identification</li>\n",
    "      <li>Design a PI Controller for this systems</li>\n",
    "      <li>Introduce pertubations: At some point in your experiment, run `yes` in another terminal to act as a disturbance, and see how your controller reacts.\n",
    "    </ol> \n",
    "</div>"
   ]
  },
  {
   "cell_type": "markdown",
   "id": "629824b3-eeb5-40c2-a55b-922def8fdfbd",
   "metadata": {},
   "source": [
    "## Why `lua`?\n",
    "\n",
    "Because it is a simple, small language that integrate with `C` easily!\n",
    "Instead of giving you the source code and asking you to write `C` code to implement the controller, we can just write the controller in `lua` and pass the `lua` file as an argument of the `C` binary to be loaded.\n",
    "\n",
    "You can find a `lua` cheat sheet [here](https://devhints.io/lua)."
   ]
  },
  {
   "cell_type": "markdown",
   "id": "e62617e9-e542-4398-867c-57c0984c2e99",
   "metadata": {},
   "source": [
    "We define here a Proportional Controller:\n",
    "\n",
    "```lua\n",
    "-- main.lua file\n",
    "\n",
    "-- Do not worry about this part\n",
    "Controller = {}\n",
    "Controller.__index = Controller\n",
    "\n",
    "function Controller:new()\n",
    "    -- Here we write the fields of the object.\n",
    "    -- For a P controller we need a proportional gain (kp)\n",
    "    -- and the reference value (ref)\n",
    "    local ret = {kp = 0.5, ref = 2.0}\n",
    "    setmetatable(ret, Controller)\n",
    "    return ret\n",
    "end\n",
    "\n",
    "function Controller:ctrl(sensor)\n",
    "    -- This is the main function of the controller.\n",
    "    -- It gets the sensor value from the system,\n",
    "    -- and must return the next input\n",
    "    \n",
    "    -- First we compute the control error\n",
    "    err = self.ref - sensor\n",
    "    -- Then we compute the next u\n",
    "    u = self.kp * err\n",
    "    -- We make sure the value of u makes sense for our system\n",
    "    if u < 0 then\n",
    "        u = 0\n",
    "    end\n",
    "    -- We print a line with the different metrics\n",
    "    print(\"sensor: \" .. sensor .. \", ref: \" .. self.ref .. \", actuator: \" .. u .. \", nb threads: \" .. math.floor(u))\n",
    "    \n",
    "    -- We finally return the value for the next input\n",
    "    return math.floor(u)\n",
    "end\n",
    "\n",
    "return Controller\n",
    "```"
   ]
  },
  {
   "cell_type": "markdown",
   "id": "99064358-2958-4ec7-aed1-cf0fc9215fce",
   "metadata": {},
   "source": [
    "[Back to menu](./00_Main.ipynb)"
   ]
  }
 ],
 "metadata": {
  "kernelspec": {
   "display_name": "Python 3 (ipykernel)",
   "language": "python",
   "name": "python3"
  },
  "language_info": {
   "codemirror_mode": {
    "name": "ipython",
    "version": 3
   },
   "file_extension": ".py",
   "mimetype": "text/x-python",
   "name": "python",
   "nbconvert_exporter": "python",
   "pygments_lexer": "ipython3",
   "version": "3.9.12"
  }
 },
 "nbformat": 4,
 "nbformat_minor": 5
}
